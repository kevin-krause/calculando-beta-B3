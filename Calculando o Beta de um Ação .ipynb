{
 "cells": [
  {
   "cell_type": "code",
   "execution_count": 1,
   "metadata": {},
   "outputs": [],
   "source": [
    "import pandas as pd\n",
    "from pandas_datareader import data as pdr\n",
    "import numpy as np\n",
    "import matplotlib.pyplot as plt\n",
    "from datetime import datetime\n",
    "from datetime import timedelta\n"
   ]
  },
  {
   "cell_type": "code",
   "execution_count": 2,
   "metadata": {},
   "outputs": [],
   "source": [
    "\n",
    "ativo_1 = 'VALE3.SA'\n",
    "ativo_2 = '^BVSP'\n",
    "\n",
    "carteira = [ativo_1, ativo_2]\n",
    "\n",
    "end_d = datetime.now()\n",
    "start_d = end_d - timedelta(1825)\n",
    "\n",
    "# tempo ideal para calc um beta é de 5 anos por isso eu coloquei (data atual - 1) -  menos 5 anos\n",
    "mdata = pd.DataFrame()\n",
    "for t in carteira:\n",
    "    mdata[t] = pdr.DataReader(t,data_source='yahoo',start=start_d, end = end_d)['Adj Close']"
   ]
  },
  {
   "cell_type": "code",
   "execution_count": 3,
   "metadata": {},
   "outputs": [
    {
     "name": "stdout",
     "output_type": "stream",
     "text": [
      "            VALE3.SA     ^BVSP\n",
      "Date                          \n",
      "2017-11-22       NaN       NaN\n",
      "2017-11-23  0.013154 -0.000430\n",
      "2017-11-24  0.016622 -0.004440\n",
      "2017-11-27 -0.010674 -0.001322\n",
      "2017-11-28  0.023445  0.001093\n"
     ]
    }
   ],
   "source": [
    "#vamos criar um data frame novo com os dados de retorno em log... sabemos que em log é o melhor jeito se for ativos individuais\n",
    "df_log= np.log(mdata / mdata.shift(1))\n",
    "print(df_log.head())"
   ]
  },
  {
   "cell_type": "code",
   "execution_count": 4,
   "metadata": {},
   "outputs": [
    {
     "data": {
      "text/html": [
       "<div>\n",
       "<style scoped>\n",
       "    .dataframe tbody tr th:only-of-type {\n",
       "        vertical-align: middle;\n",
       "    }\n",
       "\n",
       "    .dataframe tbody tr th {\n",
       "        vertical-align: top;\n",
       "    }\n",
       "\n",
       "    .dataframe thead th {\n",
       "        text-align: right;\n",
       "    }\n",
       "</style>\n",
       "<table border=\"1\" class=\"dataframe\">\n",
       "  <thead>\n",
       "    <tr style=\"text-align: right;\">\n",
       "      <th></th>\n",
       "      <th>VALE3.SA</th>\n",
       "      <th>^BVSP</th>\n",
       "    </tr>\n",
       "  </thead>\n",
       "  <tbody>\n",
       "    <tr>\n",
       "      <th>VALE3.SA</th>\n",
       "      <td>0.169729</td>\n",
       "      <td>0.068276</td>\n",
       "    </tr>\n",
       "    <tr>\n",
       "      <th>^BVSP</th>\n",
       "      <td>0.068276</td>\n",
       "      <td>0.074092</td>\n",
       "    </tr>\n",
       "  </tbody>\n",
       "</table>\n",
       "</div>"
      ],
      "text/plain": [
       "          VALE3.SA     ^BVSP\n",
       "VALE3.SA  0.169729  0.068276\n",
       "^BVSP     0.068276  0.074092"
      ]
     },
     "execution_count": 4,
     "metadata": {},
     "output_type": "execute_result"
    }
   ],
   "source": [
    "#vamos cria uma matriz de covariancai com o metodo (.cov)\n",
    "cov = df_log.cov()*250\n",
    "cov"
   ]
  },
  {
   "cell_type": "code",
   "execution_count": 5,
   "metadata": {},
   "outputs": [
    {
     "data": {
      "text/plain": [
       "0.06827560261786234"
      ]
     },
     "execution_count": 5,
     "metadata": {},
     "output_type": "execute_result"
    }
   ],
   "source": [
    "#vamos obter a covariancia com o mercador, dando o numero floot\n",
    "cov_com_mercado = cov.iloc[0,1]\n",
    "cov_com_mercado"
   ]
  },
  {
   "cell_type": "code",
   "execution_count": 6,
   "metadata": {},
   "outputs": [
    {
     "data": {
      "text/plain": [
       "0.0740918617099529"
      ]
     },
     "execution_count": 6,
     "metadata": {},
     "output_type": "execute_result"
    }
   ],
   "source": [
    "# vamos obter a variancia anualizado o nosso indice Ibov( Nossa carteria de Mercado)\n",
    "var_mercado = df_log[ativo_2].var() * 250\n",
    "var_mercado"
   ]
  },
  {
   "cell_type": "markdown",
   "metadata": {},
   "source": [
    "# Formula:\n",
    "Beta:\n",
    "\n",
    "beta_acao = cov_com_mercado / var_mercado"
   ]
  },
  {
   "cell_type": "code",
   "execution_count": 7,
   "metadata": {},
   "outputs": [
    {
     "name": "stdout",
     "output_type": "stream",
     "text": [
      "0.9215  %\n"
     ]
    }
   ],
   "source": [
    "beta_acao = cov_com_mercado / var_mercado\n",
    "print(round(beta_acao,5), ' %')"
   ]
  }
 ],
 "metadata": {
  "kernelspec": {
   "display_name": "Python 3.9.7 64-bit",
   "language": "python",
   "name": "python3"
  },
  "language_info": {
   "codemirror_mode": {
    "name": "ipython",
    "version": 3
   },
   "file_extension": ".py",
   "mimetype": "text/x-python",
   "name": "python",
   "nbconvert_exporter": "python",
   "pygments_lexer": "ipython3",
   "version": "3.9.7"
  },
  "vscode": {
   "interpreter": {
    "hash": "8fa0defc4cf06f2b13e36a377494b66ed142011eef6474a42c799b43f2f1f6ff"
   }
  }
 },
 "nbformat": 4,
 "nbformat_minor": 2
}
