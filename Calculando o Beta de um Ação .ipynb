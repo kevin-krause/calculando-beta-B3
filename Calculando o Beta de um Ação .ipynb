{
 "cells": [
  {
   "cell_type": "code",
   "execution_count": 1,
   "metadata": {},
   "outputs": [],
   "source": [
    "#vamos caregar o modulo pandas\n",
    "import pandas as pd\n",
    "#importar biblioteca do pandas datareader\n",
    "from pandas_datareader import data as pdr\n",
    "#importar a bliblioteca Numpy\n",
    "import numpy as np\n",
    "import matplotlib.pyplot as plt\n",
    "%matplotlib inline"
   ]
  },
  {
   "cell_type": "code",
   "execution_count": 10,
   "metadata": {},
   "outputs": [],
   "source": [
    "# tempo ideal para calc um beta é de 5 anos por isso eu coloquei (data atual - 1) -  menos 5 anos\n",
    "carteira = ['VVAR3.SA','^BVSP']\n",
    "mdata = pd.DataFrame()\n",
    "for t in carteira:\n",
    "    mdata[t] = pdr.DataReader(t,data_source='yahoo',start='2015-1-1', end = '2020-03-19')['Adj Close']"
   ]
  },
  {
   "cell_type": "code",
   "execution_count": 11,
   "metadata": {},
   "outputs": [
    {
     "name": "stdout",
     "output_type": "stream",
     "text": [
      "            VVAR3.SA     ^BVSP\n",
      "Date                          \n",
      "2015-01-02       NaN       NaN\n",
      "2015-01-05  0.000000 -0.020724\n",
      "2015-01-06  0.000000  0.010134\n",
      "2015-01-07  0.079137  0.030003\n",
      "2015-01-08  0.000000  0.009657\n"
     ]
    }
   ],
   "source": [
    "#vamos criar um data frame novo com os dados de retorno em log... sabemos que em log é o melhor jeito se for ativos individuais\n",
    "df_log= np.log(mdata / mdata.shift(1))\n",
    "print(df_log.head())"
   ]
  },
  {
   "cell_type": "code",
   "execution_count": 12,
   "metadata": {},
   "outputs": [
    {
     "data": {
      "text/html": [
       "<div>\n",
       "<style scoped>\n",
       "    .dataframe tbody tr th:only-of-type {\n",
       "        vertical-align: middle;\n",
       "    }\n",
       "\n",
       "    .dataframe tbody tr th {\n",
       "        vertical-align: top;\n",
       "    }\n",
       "\n",
       "    .dataframe thead th {\n",
       "        text-align: right;\n",
       "    }\n",
       "</style>\n",
       "<table border=\"1\" class=\"dataframe\">\n",
       "  <thead>\n",
       "    <tr style=\"text-align: right;\">\n",
       "      <th></th>\n",
       "      <th>VVAR3.SA</th>\n",
       "      <th>^BVSP</th>\n",
       "    </tr>\n",
       "  </thead>\n",
       "  <tbody>\n",
       "    <tr>\n",
       "      <th>VVAR3.SA</th>\n",
       "      <td>0.588919</td>\n",
       "      <td>0.079147</td>\n",
       "    </tr>\n",
       "    <tr>\n",
       "      <th>^BVSP</th>\n",
       "      <td>0.079147</td>\n",
       "      <td>0.071484</td>\n",
       "    </tr>\n",
       "  </tbody>\n",
       "</table>\n",
       "</div>"
      ],
      "text/plain": [
       "          VVAR3.SA     ^BVSP\n",
       "VVAR3.SA  0.588919  0.079147\n",
       "^BVSP     0.079147  0.071484"
      ]
     },
     "execution_count": 12,
     "metadata": {},
     "output_type": "execute_result"
    }
   ],
   "source": [
    "#vamos cria uma matriz de covariancai com o metodo (.cov)\n",
    "cov = df_log.cov()*250\n",
    "cov"
   ]
  },
  {
   "cell_type": "code",
   "execution_count": 13,
   "metadata": {},
   "outputs": [
    {
     "data": {
      "text/plain": [
       "0.07914689587313027"
      ]
     },
     "execution_count": 13,
     "metadata": {},
     "output_type": "execute_result"
    }
   ],
   "source": [
    "#vamos obter a covariancia com o mercador, dando o numero floot\n",
    "cov_com_mercado = cov.iloc[0,1]\n",
    "cov_com_mercado"
   ]
  },
  {
   "cell_type": "code",
   "execution_count": 14,
   "metadata": {},
   "outputs": [
    {
     "data": {
      "text/plain": [
       "0.07148356738680711"
      ]
     },
     "execution_count": 14,
     "metadata": {},
     "output_type": "execute_result"
    }
   ],
   "source": [
    "# vamos obter a variancia anualizado o nosso indice Ibov( Nossa carteria de Mercado)\n",
    "var_mercado = df_log['^BVSP'].var() * 250\n",
    "var_mercado"
   ]
  },
  {
   "cell_type": "markdown",
   "metadata": {},
   "source": [
    "# Vamos fazer o Beta\n",
    "** Beta: **\n",
    "### $$ \n",
    "\\beta_{Acão} = \\frac{\\sigma_{Ação,m}}{\\sigma_{m}^2}\n",
    "$$"
   ]
  },
  {
   "cell_type": "code",
   "execution_count": 15,
   "metadata": {},
   "outputs": [
    {
     "data": {
      "text/plain": [
       "1.107204057750166"
      ]
     },
     "execution_count": 15,
     "metadata": {},
     "output_type": "execute_result"
    }
   ],
   "source": [
    "beta_acao = cov_com_mercado / var_mercado\n",
    "beta_acao"
   ]
  },
  {
   "cell_type": "code",
   "execution_count": null,
   "metadata": {},
   "outputs": [],
   "source": []
  }
 ],
 "metadata": {
  "kernelspec": {
   "display_name": "Python 3",
   "language": "python",
   "name": "python3"
  },
  "language_info": {
   "codemirror_mode": {
    "name": "ipython",
    "version": 3
   },
   "file_extension": ".py",
   "mimetype": "text/x-python",
   "name": "python",
   "nbconvert_exporter": "python",
   "pygments_lexer": "ipython3",
   "version": "3.6.5"
  }
 },
 "nbformat": 4,
 "nbformat_minor": 2
}
